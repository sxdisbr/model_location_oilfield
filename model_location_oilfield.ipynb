{
 "cells": [
  {
   "cell_type": "markdown",
   "id": "d3512e66",
   "metadata": {},
   "source": [
    "# Content\n",
    "\n",
    "1 Loading and preparing data\n",
    "\n",
    "2 Model training and validation\n",
    "\n",
    "3 Preparation for profit calculation\n",
    "\n",
    "4 Calculation of profit and risks\n",
    "\n",
    "5 Conclusions"
   ]
  },
  {
   "cell_type": "markdown",
   "id": "81d39419",
   "metadata": {},
   "source": [
    "# Choosing the Best Location to Profit from an Oilfield"
   ]
  },
  {
   "cell_type": "markdown",
   "id": "a5df03a9",
   "metadata": {},
   "source": [
    "The task is choose the best location to drill a new well. We have samples in our data about three regions: in each there are 10000 fields, where the quality of oil and the volume of its reserves were measured.\n",
    "\n",
    "We are going to build a machine learning model that will help determine the region where drilling will bring the greatest profit. Also, we will analize the possible profits and risks with the bootstrap technique.\n",
    "\n",
    "These are the steps to select a location:\n",
    "\n",
    "* Deposits are being searched for in the selected region, the values of the signs are determined for each.\n",
    "\n",
    "\n",
    "* We build a model and we estimate the volume of stocks.\n",
    "\n",
    "\n",
    "* The we choose the deposits with the highest estimates of values. The number of deposits depends on the company's budget and the cost of developing one well.\n",
    "\n",
    "\n",
    "* The profit is equal to the total profit of the selected fields."
   ]
  },
  {
   "cell_type": "markdown",
   "id": "8d530917",
   "metadata": {},
   "source": [
    "# Loading and preparing data"
   ]
  },
  {
   "cell_type": "markdown",
   "id": "73acc604",
   "metadata": {},
   "source": [
    "First of all, we import the necessary libraries."
   ]
  },
  {
   "cell_type": "code",
   "execution_count": 1,
   "id": "b8c4ed27",
   "metadata": {},
   "outputs": [],
   "source": [
    "from sklearn.linear_model import LinearRegression\n",
    "\n",
    "import matplotlib.pyplot as plt\n",
    "\n",
    "from sklearn.metrics import mean_squared_error\n",
    "\n",
    "import numpy as np\n",
    "\n",
    "import pandas as pd\n",
    "\n",
    "from sklearn.preprocessing import StandardScaler\n",
    "\n",
    "import seaborn as sns\n",
    "\n",
    "from scipy import stats as st\n",
    "\n",
    "from sklearn.model_selection import train_test_split\n"
   ]
  },
  {
   "cell_type": "code",
   "execution_count": 2,
   "id": "c62eb525",
   "metadata": {},
   "outputs": [],
   "source": [
    "data_1 = pd.read_csv(r'C:\\Users\\pinos\\Desktop\\statistics\\geo_data_0.csv')\n",
    "\n",
    "data_2 = pd.read_csv(r'C:\\Users\\pinos\\Desktop\\statistics\\geo_data_1.csv')\n",
    "\n",
    "data_3 = pd.read_csv(r'C:\\Users\\pinos\\Desktop\\statistics\\geo_data_2.csv')"
   ]
  },
  {
   "cell_type": "code",
   "execution_count": 3,
   "id": "606269f7",
   "metadata": {},
   "outputs": [
    {
     "name": "stdout",
     "output_type": "stream",
     "text": [
      "<class 'pandas.core.frame.DataFrame'>\n",
      "Index: 8 entries, count to max\n",
      "Data columns (total 4 columns):\n",
      " #   Column   Non-Null Count  Dtype  \n",
      "---  ------   --------------  -----  \n",
      " 0   f0       8 non-null      float64\n",
      " 1   f1       8 non-null      float64\n",
      " 2   f2       8 non-null      float64\n",
      " 3   product  8 non-null      float64\n",
      "dtypes: float64(4)\n",
      "memory usage: 288.0+ bytes\n",
      "<class 'pandas.core.frame.DataFrame'>\n",
      "Index: 8 entries, count to max\n",
      "Data columns (total 4 columns):\n",
      " #   Column   Non-Null Count  Dtype  \n",
      "---  ------   --------------  -----  \n",
      " 0   f0       8 non-null      float64\n",
      " 1   f1       8 non-null      float64\n",
      " 2   f2       8 non-null      float64\n",
      " 3   product  8 non-null      float64\n",
      "dtypes: float64(4)\n",
      "memory usage: 288.0+ bytes\n",
      "<class 'pandas.core.frame.DataFrame'>\n",
      "Index: 8 entries, count to max\n",
      "Data columns (total 4 columns):\n",
      " #   Column   Non-Null Count  Dtype  \n",
      "---  ------   --------------  -----  \n",
      " 0   f0       8 non-null      float64\n",
      " 1   f1       8 non-null      float64\n",
      " 2   f2       8 non-null      float64\n",
      " 3   product  8 non-null      float64\n",
      "dtypes: float64(4)\n",
      "memory usage: 288.0+ bytes\n"
     ]
    },
    {
     "data": {
      "text/html": [
       "<div>\n",
       "<style scoped>\n",
       "    .dataframe tbody tr th:only-of-type {\n",
       "        vertical-align: middle;\n",
       "    }\n",
       "\n",
       "    .dataframe tbody tr th {\n",
       "        vertical-align: top;\n",
       "    }\n",
       "\n",
       "    .dataframe thead th {\n",
       "        text-align: right;\n",
       "    }\n",
       "</style>\n",
       "<table border=\"1\" class=\"dataframe\">\n",
       "  <thead>\n",
       "    <tr style=\"text-align: right;\">\n",
       "      <th></th>\n",
       "      <th>id</th>\n",
       "      <th>f0</th>\n",
       "      <th>f1</th>\n",
       "      <th>f2</th>\n",
       "      <th>product</th>\n",
       "    </tr>\n",
       "  </thead>\n",
       "  <tbody>\n",
       "    <tr>\n",
       "      <th>0</th>\n",
       "      <td>txEyH</td>\n",
       "      <td>0.705745</td>\n",
       "      <td>-0.497823</td>\n",
       "      <td>1.221170</td>\n",
       "      <td>105.280062</td>\n",
       "    </tr>\n",
       "    <tr>\n",
       "      <th>1</th>\n",
       "      <td>2acmU</td>\n",
       "      <td>1.334711</td>\n",
       "      <td>-0.340164</td>\n",
       "      <td>4.365080</td>\n",
       "      <td>73.037750</td>\n",
       "    </tr>\n",
       "    <tr>\n",
       "      <th>2</th>\n",
       "      <td>409Wp</td>\n",
       "      <td>1.022732</td>\n",
       "      <td>0.151990</td>\n",
       "      <td>1.419926</td>\n",
       "      <td>85.265647</td>\n",
       "    </tr>\n",
       "    <tr>\n",
       "      <th>3</th>\n",
       "      <td>iJLyR</td>\n",
       "      <td>-0.032172</td>\n",
       "      <td>0.139033</td>\n",
       "      <td>2.978566</td>\n",
       "      <td>168.620776</td>\n",
       "    </tr>\n",
       "    <tr>\n",
       "      <th>4</th>\n",
       "      <td>Xdl7t</td>\n",
       "      <td>1.988431</td>\n",
       "      <td>0.155413</td>\n",
       "      <td>4.751769</td>\n",
       "      <td>154.036647</td>\n",
       "    </tr>\n",
       "    <tr>\n",
       "      <th>...</th>\n",
       "      <td>...</td>\n",
       "      <td>...</td>\n",
       "      <td>...</td>\n",
       "      <td>...</td>\n",
       "      <td>...</td>\n",
       "    </tr>\n",
       "    <tr>\n",
       "      <th>99995</th>\n",
       "      <td>DLsed</td>\n",
       "      <td>0.971957</td>\n",
       "      <td>0.370953</td>\n",
       "      <td>6.075346</td>\n",
       "      <td>110.744026</td>\n",
       "    </tr>\n",
       "    <tr>\n",
       "      <th>99996</th>\n",
       "      <td>QKivN</td>\n",
       "      <td>1.392429</td>\n",
       "      <td>-0.382606</td>\n",
       "      <td>1.273912</td>\n",
       "      <td>122.346843</td>\n",
       "    </tr>\n",
       "    <tr>\n",
       "      <th>99997</th>\n",
       "      <td>3rnvd</td>\n",
       "      <td>1.029585</td>\n",
       "      <td>0.018787</td>\n",
       "      <td>-1.348308</td>\n",
       "      <td>64.375443</td>\n",
       "    </tr>\n",
       "    <tr>\n",
       "      <th>99998</th>\n",
       "      <td>7kl59</td>\n",
       "      <td>0.998163</td>\n",
       "      <td>-0.528582</td>\n",
       "      <td>1.583869</td>\n",
       "      <td>74.040764</td>\n",
       "    </tr>\n",
       "    <tr>\n",
       "      <th>99999</th>\n",
       "      <td>1CWhH</td>\n",
       "      <td>1.764754</td>\n",
       "      <td>-0.266417</td>\n",
       "      <td>5.722849</td>\n",
       "      <td>149.633246</td>\n",
       "    </tr>\n",
       "  </tbody>\n",
       "</table>\n",
       "<p>100000 rows × 5 columns</p>\n",
       "</div>"
      ],
      "text/plain": [
       "          id        f0        f1        f2     product\n",
       "0      txEyH  0.705745 -0.497823  1.221170  105.280062\n",
       "1      2acmU  1.334711 -0.340164  4.365080   73.037750\n",
       "2      409Wp  1.022732  0.151990  1.419926   85.265647\n",
       "3      iJLyR -0.032172  0.139033  2.978566  168.620776\n",
       "4      Xdl7t  1.988431  0.155413  4.751769  154.036647\n",
       "...      ...       ...       ...       ...         ...\n",
       "99995  DLsed  0.971957  0.370953  6.075346  110.744026\n",
       "99996  QKivN  1.392429 -0.382606  1.273912  122.346843\n",
       "99997  3rnvd  1.029585  0.018787 -1.348308   64.375443\n",
       "99998  7kl59  0.998163 -0.528582  1.583869   74.040764\n",
       "99999  1CWhH  1.764754 -0.266417  5.722849  149.633246\n",
       "\n",
       "[100000 rows x 5 columns]"
      ]
     },
     "metadata": {},
     "output_type": "display_data"
    },
    {
     "name": "stdout",
     "output_type": "stream",
     "text": [
      "<class 'pandas.core.frame.DataFrame'>\n",
      "Index: 8 entries, count to max\n",
      "Data columns (total 4 columns):\n",
      " #   Column   Non-Null Count  Dtype  \n",
      "---  ------   --------------  -----  \n",
      " 0   f0       8 non-null      float64\n",
      " 1   f1       8 non-null      float64\n",
      " 2   f2       8 non-null      float64\n",
      " 3   product  8 non-null      float64\n",
      "dtypes: float64(4)\n",
      "memory usage: 288.0+ bytes\n",
      "<class 'pandas.core.frame.DataFrame'>\n",
      "Index: 8 entries, count to max\n",
      "Data columns (total 4 columns):\n",
      " #   Column   Non-Null Count  Dtype  \n",
      "---  ------   --------------  -----  \n",
      " 0   f0       8 non-null      float64\n",
      " 1   f1       8 non-null      float64\n",
      " 2   f2       8 non-null      float64\n",
      " 3   product  8 non-null      float64\n",
      "dtypes: float64(4)\n",
      "memory usage: 288.0+ bytes\n",
      "<class 'pandas.core.frame.DataFrame'>\n",
      "Index: 8 entries, count to max\n",
      "Data columns (total 4 columns):\n",
      " #   Column   Non-Null Count  Dtype  \n",
      "---  ------   --------------  -----  \n",
      " 0   f0       8 non-null      float64\n",
      " 1   f1       8 non-null      float64\n",
      " 2   f2       8 non-null      float64\n",
      " 3   product  8 non-null      float64\n",
      "dtypes: float64(4)\n",
      "memory usage: 288.0+ bytes\n"
     ]
    },
    {
     "data": {
      "text/html": [
       "<div>\n",
       "<style scoped>\n",
       "    .dataframe tbody tr th:only-of-type {\n",
       "        vertical-align: middle;\n",
       "    }\n",
       "\n",
       "    .dataframe tbody tr th {\n",
       "        vertical-align: top;\n",
       "    }\n",
       "\n",
       "    .dataframe thead th {\n",
       "        text-align: right;\n",
       "    }\n",
       "</style>\n",
       "<table border=\"1\" class=\"dataframe\">\n",
       "  <thead>\n",
       "    <tr style=\"text-align: right;\">\n",
       "      <th></th>\n",
       "      <th>id</th>\n",
       "      <th>f0</th>\n",
       "      <th>f1</th>\n",
       "      <th>f2</th>\n",
       "      <th>product</th>\n",
       "    </tr>\n",
       "  </thead>\n",
       "  <tbody>\n",
       "    <tr>\n",
       "      <th>0</th>\n",
       "      <td>kBEdx</td>\n",
       "      <td>-15.001348</td>\n",
       "      <td>-8.276000</td>\n",
       "      <td>-0.005876</td>\n",
       "      <td>3.179103</td>\n",
       "    </tr>\n",
       "    <tr>\n",
       "      <th>1</th>\n",
       "      <td>62mP7</td>\n",
       "      <td>14.272088</td>\n",
       "      <td>-3.475083</td>\n",
       "      <td>0.999183</td>\n",
       "      <td>26.953261</td>\n",
       "    </tr>\n",
       "    <tr>\n",
       "      <th>2</th>\n",
       "      <td>vyE1P</td>\n",
       "      <td>6.263187</td>\n",
       "      <td>-5.948386</td>\n",
       "      <td>5.001160</td>\n",
       "      <td>134.766305</td>\n",
       "    </tr>\n",
       "    <tr>\n",
       "      <th>3</th>\n",
       "      <td>KcrkZ</td>\n",
       "      <td>-13.081196</td>\n",
       "      <td>-11.506057</td>\n",
       "      <td>4.999415</td>\n",
       "      <td>137.945408</td>\n",
       "    </tr>\n",
       "    <tr>\n",
       "      <th>4</th>\n",
       "      <td>AHL4O</td>\n",
       "      <td>12.702195</td>\n",
       "      <td>-8.147433</td>\n",
       "      <td>5.004363</td>\n",
       "      <td>134.766305</td>\n",
       "    </tr>\n",
       "    <tr>\n",
       "      <th>...</th>\n",
       "      <td>...</td>\n",
       "      <td>...</td>\n",
       "      <td>...</td>\n",
       "      <td>...</td>\n",
       "      <td>...</td>\n",
       "    </tr>\n",
       "    <tr>\n",
       "      <th>99995</th>\n",
       "      <td>QywKC</td>\n",
       "      <td>9.535637</td>\n",
       "      <td>-6.878139</td>\n",
       "      <td>1.998296</td>\n",
       "      <td>53.906522</td>\n",
       "    </tr>\n",
       "    <tr>\n",
       "      <th>99996</th>\n",
       "      <td>ptvty</td>\n",
       "      <td>-10.160631</td>\n",
       "      <td>-12.558096</td>\n",
       "      <td>5.005581</td>\n",
       "      <td>137.945408</td>\n",
       "    </tr>\n",
       "    <tr>\n",
       "      <th>99997</th>\n",
       "      <td>09gWa</td>\n",
       "      <td>-7.378891</td>\n",
       "      <td>-3.084104</td>\n",
       "      <td>4.998651</td>\n",
       "      <td>137.945408</td>\n",
       "    </tr>\n",
       "    <tr>\n",
       "      <th>99998</th>\n",
       "      <td>rqwUm</td>\n",
       "      <td>0.665714</td>\n",
       "      <td>-6.152593</td>\n",
       "      <td>1.000146</td>\n",
       "      <td>30.132364</td>\n",
       "    </tr>\n",
       "    <tr>\n",
       "      <th>99999</th>\n",
       "      <td>relB0</td>\n",
       "      <td>-3.426139</td>\n",
       "      <td>-7.794274</td>\n",
       "      <td>-0.003299</td>\n",
       "      <td>3.179103</td>\n",
       "    </tr>\n",
       "  </tbody>\n",
       "</table>\n",
       "<p>100000 rows × 5 columns</p>\n",
       "</div>"
      ],
      "text/plain": [
       "          id         f0         f1        f2     product\n",
       "0      kBEdx -15.001348  -8.276000 -0.005876    3.179103\n",
       "1      62mP7  14.272088  -3.475083  0.999183   26.953261\n",
       "2      vyE1P   6.263187  -5.948386  5.001160  134.766305\n",
       "3      KcrkZ -13.081196 -11.506057  4.999415  137.945408\n",
       "4      AHL4O  12.702195  -8.147433  5.004363  134.766305\n",
       "...      ...        ...        ...       ...         ...\n",
       "99995  QywKC   9.535637  -6.878139  1.998296   53.906522\n",
       "99996  ptvty -10.160631 -12.558096  5.005581  137.945408\n",
       "99997  09gWa  -7.378891  -3.084104  4.998651  137.945408\n",
       "99998  rqwUm   0.665714  -6.152593  1.000146   30.132364\n",
       "99999  relB0  -3.426139  -7.794274 -0.003299    3.179103\n",
       "\n",
       "[100000 rows x 5 columns]"
      ]
     },
     "metadata": {},
     "output_type": "display_data"
    },
    {
     "name": "stdout",
     "output_type": "stream",
     "text": [
      "<class 'pandas.core.frame.DataFrame'>\n",
      "Index: 8 entries, count to max\n",
      "Data columns (total 4 columns):\n",
      " #   Column   Non-Null Count  Dtype  \n",
      "---  ------   --------------  -----  \n",
      " 0   f0       8 non-null      float64\n",
      " 1   f1       8 non-null      float64\n",
      " 2   f2       8 non-null      float64\n",
      " 3   product  8 non-null      float64\n",
      "dtypes: float64(4)\n",
      "memory usage: 288.0+ bytes\n",
      "<class 'pandas.core.frame.DataFrame'>\n",
      "Index: 8 entries, count to max\n",
      "Data columns (total 4 columns):\n",
      " #   Column   Non-Null Count  Dtype  \n",
      "---  ------   --------------  -----  \n",
      " 0   f0       8 non-null      float64\n",
      " 1   f1       8 non-null      float64\n",
      " 2   f2       8 non-null      float64\n",
      " 3   product  8 non-null      float64\n",
      "dtypes: float64(4)\n",
      "memory usage: 288.0+ bytes\n",
      "<class 'pandas.core.frame.DataFrame'>\n",
      "Index: 8 entries, count to max\n",
      "Data columns (total 4 columns):\n",
      " #   Column   Non-Null Count  Dtype  \n",
      "---  ------   --------------  -----  \n",
      " 0   f0       8 non-null      float64\n",
      " 1   f1       8 non-null      float64\n",
      " 2   f2       8 non-null      float64\n",
      " 3   product  8 non-null      float64\n",
      "dtypes: float64(4)\n",
      "memory usage: 288.0+ bytes\n"
     ]
    },
    {
     "data": {
      "text/html": [
       "<div>\n",
       "<style scoped>\n",
       "    .dataframe tbody tr th:only-of-type {\n",
       "        vertical-align: middle;\n",
       "    }\n",
       "\n",
       "    .dataframe tbody tr th {\n",
       "        vertical-align: top;\n",
       "    }\n",
       "\n",
       "    .dataframe thead th {\n",
       "        text-align: right;\n",
       "    }\n",
       "</style>\n",
       "<table border=\"1\" class=\"dataframe\">\n",
       "  <thead>\n",
       "    <tr style=\"text-align: right;\">\n",
       "      <th></th>\n",
       "      <th>id</th>\n",
       "      <th>f0</th>\n",
       "      <th>f1</th>\n",
       "      <th>f2</th>\n",
       "      <th>product</th>\n",
       "    </tr>\n",
       "  </thead>\n",
       "  <tbody>\n",
       "    <tr>\n",
       "      <th>0</th>\n",
       "      <td>fwXo0</td>\n",
       "      <td>-1.146987</td>\n",
       "      <td>0.963328</td>\n",
       "      <td>-0.828965</td>\n",
       "      <td>27.758673</td>\n",
       "    </tr>\n",
       "    <tr>\n",
       "      <th>1</th>\n",
       "      <td>WJtFt</td>\n",
       "      <td>0.262778</td>\n",
       "      <td>0.269839</td>\n",
       "      <td>-2.530187</td>\n",
       "      <td>56.069697</td>\n",
       "    </tr>\n",
       "    <tr>\n",
       "      <th>2</th>\n",
       "      <td>ovLUW</td>\n",
       "      <td>0.194587</td>\n",
       "      <td>0.289035</td>\n",
       "      <td>-5.586433</td>\n",
       "      <td>62.871910</td>\n",
       "    </tr>\n",
       "    <tr>\n",
       "      <th>3</th>\n",
       "      <td>q6cA6</td>\n",
       "      <td>2.236060</td>\n",
       "      <td>-0.553760</td>\n",
       "      <td>0.930038</td>\n",
       "      <td>114.572842</td>\n",
       "    </tr>\n",
       "    <tr>\n",
       "      <th>4</th>\n",
       "      <td>WPMUX</td>\n",
       "      <td>-0.515993</td>\n",
       "      <td>1.716266</td>\n",
       "      <td>5.899011</td>\n",
       "      <td>149.600746</td>\n",
       "    </tr>\n",
       "    <tr>\n",
       "      <th>...</th>\n",
       "      <td>...</td>\n",
       "      <td>...</td>\n",
       "      <td>...</td>\n",
       "      <td>...</td>\n",
       "      <td>...</td>\n",
       "    </tr>\n",
       "    <tr>\n",
       "      <th>99995</th>\n",
       "      <td>4GxBu</td>\n",
       "      <td>-1.777037</td>\n",
       "      <td>1.125220</td>\n",
       "      <td>6.263374</td>\n",
       "      <td>172.327046</td>\n",
       "    </tr>\n",
       "    <tr>\n",
       "      <th>99996</th>\n",
       "      <td>YKFjq</td>\n",
       "      <td>-1.261523</td>\n",
       "      <td>-0.894828</td>\n",
       "      <td>2.524545</td>\n",
       "      <td>138.748846</td>\n",
       "    </tr>\n",
       "    <tr>\n",
       "      <th>99997</th>\n",
       "      <td>tKPY3</td>\n",
       "      <td>-1.199934</td>\n",
       "      <td>-2.957637</td>\n",
       "      <td>5.219411</td>\n",
       "      <td>157.080080</td>\n",
       "    </tr>\n",
       "    <tr>\n",
       "      <th>99998</th>\n",
       "      <td>nmxp2</td>\n",
       "      <td>-2.419896</td>\n",
       "      <td>2.417221</td>\n",
       "      <td>-5.548444</td>\n",
       "      <td>51.795253</td>\n",
       "    </tr>\n",
       "    <tr>\n",
       "      <th>99999</th>\n",
       "      <td>V9kWn</td>\n",
       "      <td>-2.551421</td>\n",
       "      <td>-2.025625</td>\n",
       "      <td>6.090891</td>\n",
       "      <td>102.775767</td>\n",
       "    </tr>\n",
       "  </tbody>\n",
       "</table>\n",
       "<p>100000 rows × 5 columns</p>\n",
       "</div>"
      ],
      "text/plain": [
       "          id        f0        f1        f2     product\n",
       "0      fwXo0 -1.146987  0.963328 -0.828965   27.758673\n",
       "1      WJtFt  0.262778  0.269839 -2.530187   56.069697\n",
       "2      ovLUW  0.194587  0.289035 -5.586433   62.871910\n",
       "3      q6cA6  2.236060 -0.553760  0.930038  114.572842\n",
       "4      WPMUX -0.515993  1.716266  5.899011  149.600746\n",
       "...      ...       ...       ...       ...         ...\n",
       "99995  4GxBu -1.777037  1.125220  6.263374  172.327046\n",
       "99996  YKFjq -1.261523 -0.894828  2.524545  138.748846\n",
       "99997  tKPY3 -1.199934 -2.957637  5.219411  157.080080\n",
       "99998  nmxp2 -2.419896  2.417221 -5.548444   51.795253\n",
       "99999  V9kWn -2.551421 -2.025625  6.090891  102.775767\n",
       "\n",
       "[100000 rows x 5 columns]"
      ]
     },
     "metadata": {},
     "output_type": "display_data"
    }
   ],
   "source": [
    "for i in (data_1, data_2, data_3):\n",
    "    \n",
    "    data_1.head().describe().info()\n",
    "    \n",
    "    data_2.head().describe().info()\n",
    "    \n",
    "    data_3.head().describe().info()\n",
    "    \n",
    "    display(i)"
   ]
  },
  {
   "cell_type": "markdown",
   "id": "0f2995e2",
   "metadata": {},
   "source": [
    "We have four variables in front of us, one string type and four numeric float types."
   ]
  },
  {
   "cell_type": "code",
   "execution_count": 4,
   "id": "9e054e19",
   "metadata": {},
   "outputs": [],
   "source": [
    "def is_duplicated(data):\n",
    "    \n",
    "    return data.duplicated().sum()"
   ]
  },
  {
   "cell_type": "code",
   "execution_count": 5,
   "id": "69b96ff1",
   "metadata": {},
   "outputs": [
    {
     "data": {
      "text/plain": [
       "0"
      ]
     },
     "execution_count": 5,
     "metadata": {},
     "output_type": "execute_result"
    }
   ],
   "source": [
    "is_duplicated(data_1) \n",
    "is_duplicated(data_2) \n",
    "is_duplicated(data_3) "
   ]
  },
  {
   "cell_type": "markdown",
   "id": "20f50241",
   "metadata": {},
   "source": [
    "No duplicated data but just in case we are going to check the 'id' column with a loop."
   ]
  },
  {
   "cell_type": "code",
   "execution_count": 6,
   "id": "8022d2f8",
   "metadata": {},
   "outputs": [],
   "source": [
    "def co_duplicated(data, column):\n",
    "    \n",
    "    return data[column].duplicated().sum()"
   ]
  },
  {
   "cell_type": "code",
   "execution_count": 7,
   "id": "fbeedabd",
   "metadata": {},
   "outputs": [
    {
     "data": {
      "text/plain": [
       "10"
      ]
     },
     "execution_count": 7,
     "metadata": {},
     "output_type": "execute_result"
    }
   ],
   "source": [
    "co_duplicated(data_1, 'id')"
   ]
  },
  {
   "cell_type": "code",
   "execution_count": 8,
   "id": "6b59c0cb",
   "metadata": {},
   "outputs": [
    {
     "data": {
      "text/plain": [
       "4"
      ]
     },
     "execution_count": 8,
     "metadata": {},
     "output_type": "execute_result"
    }
   ],
   "source": [
    "co_duplicated(data_2, 'id')"
   ]
  },
  {
   "cell_type": "code",
   "execution_count": 9,
   "id": "b2fcebe9",
   "metadata": {},
   "outputs": [
    {
     "data": {
      "text/plain": [
       "4"
      ]
     },
     "execution_count": 9,
     "metadata": {},
     "output_type": "execute_result"
    }
   ],
   "source": [
    "co_duplicated(data_3, 'id')"
   ]
  },
  {
   "cell_type": "markdown",
   "id": "d92571f3",
   "metadata": {},
   "source": [
    "There are some duplicates but doesn't matter, in fact, we're going to apply the regression line. We don't need the 'id' column, so we remove it."
   ]
  },
  {
   "cell_type": "code",
   "execution_count": 10,
   "id": "97921507",
   "metadata": {},
   "outputs": [],
   "source": [
    "def dropping(data): \n",
    "    \n",
    "    return data.drop(['id'], axis=1)"
   ]
  },
  {
   "cell_type": "code",
   "execution_count": 11,
   "id": "fff2b16d",
   "metadata": {},
   "outputs": [],
   "source": [
    "data_1 = dropping(data_1)\n",
    "\n",
    "data_2 = dropping(data_2)\n",
    "\n",
    "data_3 = dropping(data_3)"
   ]
  },
  {
   "cell_type": "markdown",
   "id": "744961b5",
   "metadata": {},
   "source": [
    "We check that the column has been successfully deleted."
   ]
  },
  {
   "cell_type": "code",
   "execution_count": 12,
   "id": "0cd838fa",
   "metadata": {},
   "outputs": [
    {
     "data": {
      "text/html": [
       "<div>\n",
       "<style scoped>\n",
       "    .dataframe tbody tr th:only-of-type {\n",
       "        vertical-align: middle;\n",
       "    }\n",
       "\n",
       "    .dataframe tbody tr th {\n",
       "        vertical-align: top;\n",
       "    }\n",
       "\n",
       "    .dataframe thead th {\n",
       "        text-align: right;\n",
       "    }\n",
       "</style>\n",
       "<table border=\"1\" class=\"dataframe\">\n",
       "  <thead>\n",
       "    <tr style=\"text-align: right;\">\n",
       "      <th></th>\n",
       "      <th>f0</th>\n",
       "      <th>f1</th>\n",
       "      <th>f2</th>\n",
       "      <th>product</th>\n",
       "    </tr>\n",
       "  </thead>\n",
       "  <tbody>\n",
       "    <tr>\n",
       "      <th>0</th>\n",
       "      <td>0.705745</td>\n",
       "      <td>-0.497823</td>\n",
       "      <td>1.221170</td>\n",
       "      <td>105.280062</td>\n",
       "    </tr>\n",
       "    <tr>\n",
       "      <th>1</th>\n",
       "      <td>1.334711</td>\n",
       "      <td>-0.340164</td>\n",
       "      <td>4.365080</td>\n",
       "      <td>73.037750</td>\n",
       "    </tr>\n",
       "    <tr>\n",
       "      <th>2</th>\n",
       "      <td>1.022732</td>\n",
       "      <td>0.151990</td>\n",
       "      <td>1.419926</td>\n",
       "      <td>85.265647</td>\n",
       "    </tr>\n",
       "    <tr>\n",
       "      <th>3</th>\n",
       "      <td>-0.032172</td>\n",
       "      <td>0.139033</td>\n",
       "      <td>2.978566</td>\n",
       "      <td>168.620776</td>\n",
       "    </tr>\n",
       "    <tr>\n",
       "      <th>4</th>\n",
       "      <td>1.988431</td>\n",
       "      <td>0.155413</td>\n",
       "      <td>4.751769</td>\n",
       "      <td>154.036647</td>\n",
       "    </tr>\n",
       "    <tr>\n",
       "      <th>...</th>\n",
       "      <td>...</td>\n",
       "      <td>...</td>\n",
       "      <td>...</td>\n",
       "      <td>...</td>\n",
       "    </tr>\n",
       "    <tr>\n",
       "      <th>99995</th>\n",
       "      <td>0.971957</td>\n",
       "      <td>0.370953</td>\n",
       "      <td>6.075346</td>\n",
       "      <td>110.744026</td>\n",
       "    </tr>\n",
       "    <tr>\n",
       "      <th>99996</th>\n",
       "      <td>1.392429</td>\n",
       "      <td>-0.382606</td>\n",
       "      <td>1.273912</td>\n",
       "      <td>122.346843</td>\n",
       "    </tr>\n",
       "    <tr>\n",
       "      <th>99997</th>\n",
       "      <td>1.029585</td>\n",
       "      <td>0.018787</td>\n",
       "      <td>-1.348308</td>\n",
       "      <td>64.375443</td>\n",
       "    </tr>\n",
       "    <tr>\n",
       "      <th>99998</th>\n",
       "      <td>0.998163</td>\n",
       "      <td>-0.528582</td>\n",
       "      <td>1.583869</td>\n",
       "      <td>74.040764</td>\n",
       "    </tr>\n",
       "    <tr>\n",
       "      <th>99999</th>\n",
       "      <td>1.764754</td>\n",
       "      <td>-0.266417</td>\n",
       "      <td>5.722849</td>\n",
       "      <td>149.633246</td>\n",
       "    </tr>\n",
       "  </tbody>\n",
       "</table>\n",
       "<p>100000 rows × 4 columns</p>\n",
       "</div>"
      ],
      "text/plain": [
       "             f0        f1        f2     product\n",
       "0      0.705745 -0.497823  1.221170  105.280062\n",
       "1      1.334711 -0.340164  4.365080   73.037750\n",
       "2      1.022732  0.151990  1.419926   85.265647\n",
       "3     -0.032172  0.139033  2.978566  168.620776\n",
       "4      1.988431  0.155413  4.751769  154.036647\n",
       "...         ...       ...       ...         ...\n",
       "99995  0.971957  0.370953  6.075346  110.744026\n",
       "99996  1.392429 -0.382606  1.273912  122.346843\n",
       "99997  1.029585  0.018787 -1.348308   64.375443\n",
       "99998  0.998163 -0.528582  1.583869   74.040764\n",
       "99999  1.764754 -0.266417  5.722849  149.633246\n",
       "\n",
       "[100000 rows x 4 columns]"
      ]
     },
     "metadata": {},
     "output_type": "display_data"
    },
    {
     "data": {
      "text/html": [
       "<div>\n",
       "<style scoped>\n",
       "    .dataframe tbody tr th:only-of-type {\n",
       "        vertical-align: middle;\n",
       "    }\n",
       "\n",
       "    .dataframe tbody tr th {\n",
       "        vertical-align: top;\n",
       "    }\n",
       "\n",
       "    .dataframe thead th {\n",
       "        text-align: right;\n",
       "    }\n",
       "</style>\n",
       "<table border=\"1\" class=\"dataframe\">\n",
       "  <thead>\n",
       "    <tr style=\"text-align: right;\">\n",
       "      <th></th>\n",
       "      <th>f0</th>\n",
       "      <th>f1</th>\n",
       "      <th>f2</th>\n",
       "      <th>product</th>\n",
       "    </tr>\n",
       "  </thead>\n",
       "  <tbody>\n",
       "    <tr>\n",
       "      <th>0</th>\n",
       "      <td>-15.001348</td>\n",
       "      <td>-8.276000</td>\n",
       "      <td>-0.005876</td>\n",
       "      <td>3.179103</td>\n",
       "    </tr>\n",
       "    <tr>\n",
       "      <th>1</th>\n",
       "      <td>14.272088</td>\n",
       "      <td>-3.475083</td>\n",
       "      <td>0.999183</td>\n",
       "      <td>26.953261</td>\n",
       "    </tr>\n",
       "    <tr>\n",
       "      <th>2</th>\n",
       "      <td>6.263187</td>\n",
       "      <td>-5.948386</td>\n",
       "      <td>5.001160</td>\n",
       "      <td>134.766305</td>\n",
       "    </tr>\n",
       "    <tr>\n",
       "      <th>3</th>\n",
       "      <td>-13.081196</td>\n",
       "      <td>-11.506057</td>\n",
       "      <td>4.999415</td>\n",
       "      <td>137.945408</td>\n",
       "    </tr>\n",
       "    <tr>\n",
       "      <th>4</th>\n",
       "      <td>12.702195</td>\n",
       "      <td>-8.147433</td>\n",
       "      <td>5.004363</td>\n",
       "      <td>134.766305</td>\n",
       "    </tr>\n",
       "    <tr>\n",
       "      <th>...</th>\n",
       "      <td>...</td>\n",
       "      <td>...</td>\n",
       "      <td>...</td>\n",
       "      <td>...</td>\n",
       "    </tr>\n",
       "    <tr>\n",
       "      <th>99995</th>\n",
       "      <td>9.535637</td>\n",
       "      <td>-6.878139</td>\n",
       "      <td>1.998296</td>\n",
       "      <td>53.906522</td>\n",
       "    </tr>\n",
       "    <tr>\n",
       "      <th>99996</th>\n",
       "      <td>-10.160631</td>\n",
       "      <td>-12.558096</td>\n",
       "      <td>5.005581</td>\n",
       "      <td>137.945408</td>\n",
       "    </tr>\n",
       "    <tr>\n",
       "      <th>99997</th>\n",
       "      <td>-7.378891</td>\n",
       "      <td>-3.084104</td>\n",
       "      <td>4.998651</td>\n",
       "      <td>137.945408</td>\n",
       "    </tr>\n",
       "    <tr>\n",
       "      <th>99998</th>\n",
       "      <td>0.665714</td>\n",
       "      <td>-6.152593</td>\n",
       "      <td>1.000146</td>\n",
       "      <td>30.132364</td>\n",
       "    </tr>\n",
       "    <tr>\n",
       "      <th>99999</th>\n",
       "      <td>-3.426139</td>\n",
       "      <td>-7.794274</td>\n",
       "      <td>-0.003299</td>\n",
       "      <td>3.179103</td>\n",
       "    </tr>\n",
       "  </tbody>\n",
       "</table>\n",
       "<p>100000 rows × 4 columns</p>\n",
       "</div>"
      ],
      "text/plain": [
       "              f0         f1        f2     product\n",
       "0     -15.001348  -8.276000 -0.005876    3.179103\n",
       "1      14.272088  -3.475083  0.999183   26.953261\n",
       "2       6.263187  -5.948386  5.001160  134.766305\n",
       "3     -13.081196 -11.506057  4.999415  137.945408\n",
       "4      12.702195  -8.147433  5.004363  134.766305\n",
       "...          ...        ...       ...         ...\n",
       "99995   9.535637  -6.878139  1.998296   53.906522\n",
       "99996 -10.160631 -12.558096  5.005581  137.945408\n",
       "99997  -7.378891  -3.084104  4.998651  137.945408\n",
       "99998   0.665714  -6.152593  1.000146   30.132364\n",
       "99999  -3.426139  -7.794274 -0.003299    3.179103\n",
       "\n",
       "[100000 rows x 4 columns]"
      ]
     },
     "metadata": {},
     "output_type": "display_data"
    },
    {
     "data": {
      "text/html": [
       "<div>\n",
       "<style scoped>\n",
       "    .dataframe tbody tr th:only-of-type {\n",
       "        vertical-align: middle;\n",
       "    }\n",
       "\n",
       "    .dataframe tbody tr th {\n",
       "        vertical-align: top;\n",
       "    }\n",
       "\n",
       "    .dataframe thead th {\n",
       "        text-align: right;\n",
       "    }\n",
       "</style>\n",
       "<table border=\"1\" class=\"dataframe\">\n",
       "  <thead>\n",
       "    <tr style=\"text-align: right;\">\n",
       "      <th></th>\n",
       "      <th>f0</th>\n",
       "      <th>f1</th>\n",
       "      <th>f2</th>\n",
       "      <th>product</th>\n",
       "    </tr>\n",
       "  </thead>\n",
       "  <tbody>\n",
       "    <tr>\n",
       "      <th>0</th>\n",
       "      <td>-1.146987</td>\n",
       "      <td>0.963328</td>\n",
       "      <td>-0.828965</td>\n",
       "      <td>27.758673</td>\n",
       "    </tr>\n",
       "    <tr>\n",
       "      <th>1</th>\n",
       "      <td>0.262778</td>\n",
       "      <td>0.269839</td>\n",
       "      <td>-2.530187</td>\n",
       "      <td>56.069697</td>\n",
       "    </tr>\n",
       "    <tr>\n",
       "      <th>2</th>\n",
       "      <td>0.194587</td>\n",
       "      <td>0.289035</td>\n",
       "      <td>-5.586433</td>\n",
       "      <td>62.871910</td>\n",
       "    </tr>\n",
       "    <tr>\n",
       "      <th>3</th>\n",
       "      <td>2.236060</td>\n",
       "      <td>-0.553760</td>\n",
       "      <td>0.930038</td>\n",
       "      <td>114.572842</td>\n",
       "    </tr>\n",
       "    <tr>\n",
       "      <th>4</th>\n",
       "      <td>-0.515993</td>\n",
       "      <td>1.716266</td>\n",
       "      <td>5.899011</td>\n",
       "      <td>149.600746</td>\n",
       "    </tr>\n",
       "    <tr>\n",
       "      <th>...</th>\n",
       "      <td>...</td>\n",
       "      <td>...</td>\n",
       "      <td>...</td>\n",
       "      <td>...</td>\n",
       "    </tr>\n",
       "    <tr>\n",
       "      <th>99995</th>\n",
       "      <td>-1.777037</td>\n",
       "      <td>1.125220</td>\n",
       "      <td>6.263374</td>\n",
       "      <td>172.327046</td>\n",
       "    </tr>\n",
       "    <tr>\n",
       "      <th>99996</th>\n",
       "      <td>-1.261523</td>\n",
       "      <td>-0.894828</td>\n",
       "      <td>2.524545</td>\n",
       "      <td>138.748846</td>\n",
       "    </tr>\n",
       "    <tr>\n",
       "      <th>99997</th>\n",
       "      <td>-1.199934</td>\n",
       "      <td>-2.957637</td>\n",
       "      <td>5.219411</td>\n",
       "      <td>157.080080</td>\n",
       "    </tr>\n",
       "    <tr>\n",
       "      <th>99998</th>\n",
       "      <td>-2.419896</td>\n",
       "      <td>2.417221</td>\n",
       "      <td>-5.548444</td>\n",
       "      <td>51.795253</td>\n",
       "    </tr>\n",
       "    <tr>\n",
       "      <th>99999</th>\n",
       "      <td>-2.551421</td>\n",
       "      <td>-2.025625</td>\n",
       "      <td>6.090891</td>\n",
       "      <td>102.775767</td>\n",
       "    </tr>\n",
       "  </tbody>\n",
       "</table>\n",
       "<p>100000 rows × 4 columns</p>\n",
       "</div>"
      ],
      "text/plain": [
       "             f0        f1        f2     product\n",
       "0     -1.146987  0.963328 -0.828965   27.758673\n",
       "1      0.262778  0.269839 -2.530187   56.069697\n",
       "2      0.194587  0.289035 -5.586433   62.871910\n",
       "3      2.236060 -0.553760  0.930038  114.572842\n",
       "4     -0.515993  1.716266  5.899011  149.600746\n",
       "...         ...       ...       ...         ...\n",
       "99995 -1.777037  1.125220  6.263374  172.327046\n",
       "99996 -1.261523 -0.894828  2.524545  138.748846\n",
       "99997 -1.199934 -2.957637  5.219411  157.080080\n",
       "99998 -2.419896  2.417221 -5.548444   51.795253\n",
       "99999 -2.551421 -2.025625  6.090891  102.775767\n",
       "\n",
       "[100000 rows x 4 columns]"
      ]
     },
     "metadata": {},
     "output_type": "display_data"
    }
   ],
   "source": [
    "for i in (data_1, data_2, data_3):\n",
    "    \n",
    "    data_1.head()\n",
    "    \n",
    "    data_2.head()\n",
    "    \n",
    "    data_3.head()\n",
    "    \n",
    "    display (i)"
   ]
  },
  {
   "cell_type": "markdown",
   "id": "be612e81",
   "metadata": {},
   "source": [
    "It looks good!"
   ]
  },
  {
   "cell_type": "markdown",
   "id": "65d12783",
   "metadata": {},
   "source": [
    "Now we are going to visualize the correlation between columns."
   ]
  },
  {
   "cell_type": "code",
   "execution_count": 13,
   "id": "e37fe012",
   "metadata": {},
   "outputs": [
    {
     "name": "stdout",
     "output_type": "stream",
     "text": [
      "AxesSubplot(0.125,0.125;0.62x0.755)\n"
     ]
    },
    {
     "data": {
      "image/png": "[encoded data removed]",
      "text/plain": [
       "<Figure size 432x288 with 2 Axes>"
      ]
     },
     "metadata": {
      "needs_background": "light"
     },
     "output_type": "display_data"
    }
   ],
   "source": [
    "print(sns.heatmap(data_1.corr(), annot=True))  "
   ]
  },
  {
   "cell_type": "code",
   "execution_count": 14,
   "id": "3dc1db78",
   "metadata": {},
   "outputs": [
    {
     "name": "stdout",
     "output_type": "stream",
     "text": [
      "AxesSubplot(0.125,0.125;0.62x0.755)\n"
     ]
    },
    {
     "data": {
      "image/png": "[encoded data removed]",
      "text/plain": [
       "<Figure size 432x288 with 2 Axes>"
      ]
     },
     "metadata": {
      "needs_background": "light"
     },
     "output_type": "display_data"
    }
   ],
   "source": [
    "print(sns.heatmap(data_2.corr(), annot=True))"
   ]
  },
  {
   "cell_type": "code",
   "execution_count": 15,
   "id": "df4c7247",
   "metadata": {},
   "outputs": [
    {
     "name": "stdout",
     "output_type": "stream",
     "text": [
      "AxesSubplot(0.125,0.125;0.62x0.755)\n"
     ]
    },
    {
     "data": {
      "image/png": "[encoded data removed]",
      "text/plain": [
       "<Figure size 432x288 with 2 Axes>"
      ]
     },
     "metadata": {
      "needs_background": "light"
     },
     "output_type": "display_data"
    }
   ],
   "source": [
    "print(sns.heatmap(data_3.corr(), annot=True))"
   ]
  },
  {
   "cell_type": "markdown",
   "id": "92e3b623",
   "metadata": {},
   "source": [
    "In the first set we see a widespread correlation of variables than in the second and third sets. However, we see a moderate correlation only in feature 2 and target."
   ]
  },
  {
   "cell_type": "markdown",
   "id": "2eb2b2ce",
   "metadata": {},
   "source": [
    "# Model training and validation"
   ]
  },
  {
   "cell_type": "markdown",
   "id": "343e5eb1",
   "metadata": {},
   "source": [
    "We are performing a function that will help us divide the data sets into the necessary parts."
   ]
  },
  {
   "cell_type": "code",
   "execution_count": 16,
   "id": "d3396ae6",
   "metadata": {},
   "outputs": [],
   "source": [
    "def split_data(data, numeric, target):\n",
    "    \n",
    "    features = data.drop([target] , axis=1)\n",
    "    \n",
    "    target = data[target]\n",
    "\n",
    "    features_train, features_valid, target_train, target_valid = train_test_split(\n",
    "    \n",
    "        features, target, \n",
    "        \n",
    "        test_size=0.25, \n",
    "        \n",
    "        random_state=42)\n",
    "    \n",
    "    pd.options.mode.chained_assignment = None\n",
    "    \n",
    "    scaler = StandardScaler()\n",
    "    \n",
    "    scaler.fit(features_train[numeric])\n",
    "    \n",
    "    features_train[numeric] = scaler.transform(features_train[numeric])\n",
    "    \n",
    "    features_valid[numeric] = scaler.transform(features_valid[numeric])\n",
    "    \n",
    "    return features_train, features_valid, target_train, target_valid"
   ]
  },
  {
   "cell_type": "markdown",
   "id": "28ff5a4c",
   "metadata": {},
   "source": [
    "We use the function to dial dataset number 1."
   ]
  },
  {
   "cell_type": "code",
   "execution_count": 17,
   "id": "78ec6bf9",
   "metadata": {},
   "outputs": [],
   "source": [
    "features_train_1, features_valid_1, target_train_1, target_valid_1 = split_data(\n",
    "    \n",
    "    data_1, ['f0', 'f1', 'f2'], 'product')"
   ]
  },
  {
   "cell_type": "markdown",
   "id": "f58cb6f6",
   "metadata": {},
   "source": [
    "We apply a linear regression model and train."
   ]
  },
  {
   "cell_type": "code",
   "execution_count": 18,
   "id": "1d82a96f",
   "metadata": {},
   "outputs": [],
   "source": [
    "model_1 = LinearRegression()\n",
    "\n",
    "model_1_fit = model_1.fit(features_train_1, target_train_1)"
   ]
  },
  {
   "cell_type": "markdown",
   "id": "c9be5d9f",
   "metadata": {},
   "source": [
    "Now the prediction."
   ]
  },
  {
   "cell_type": "code",
   "execution_count": 19,
   "id": "fed6c3d5",
   "metadata": {},
   "outputs": [],
   "source": [
    "model_1_predicted = model_1.predict(features_valid_1)\n",
    "\n",
    "# We keep valid data\n",
    "\n",
    "valid_predictions_1 = pd.Series(model_1_predicted).reset_index(drop=True)"
   ]
  },
  {
   "cell_type": "markdown",
   "id": "1468f6bc",
   "metadata": {},
   "source": [
    "We calculate the mean squared error and the mean for each region."
   ]
  },
  {
   "cell_type": "code",
   "execution_count": 36,
   "id": "843c0ccd",
   "metadata": {},
   "outputs": [
    {
     "name": "stdout",
     "output_type": "stream",
     "text": [
      "RMSE: 37.75660035026169\n",
      "The average predicted value for region number 1 is: 92.3987999065781\n"
     ]
    }
   ],
   "source": [
    "print('RMSE:', mean_squared_error(target_valid_1, model_1_predicted)**0.5)\n",
    "\n",
    "print('The average predicted value for region number 1 is:', \n",
    "      \n",
    "      valid_predictions_1.mean())"
   ]
  },
  {
   "cell_type": "markdown",
   "id": "9bf21a00",
   "metadata": {},
   "source": [
    "We are going to repeat the process for the rest of the data."
   ]
  },
  {
   "cell_type": "code",
   "execution_count": 37,
   "id": "d3b6b60b",
   "metadata": {},
   "outputs": [
    {
     "name": "stdout",
     "output_type": "stream",
     "text": [
      "RMSE: 0.8902801001028837\n",
      "The average predicted value for region number 2 is: 68.71287803913762\n"
     ]
    }
   ],
   "source": [
    "features_train_2, features_valid_2, target_train_2, target_valid_2 = split_data(\n",
    "    \n",
    "    data_2, ['f0', 'f1', 'f2'], 'product')\n",
    "\n",
    "model_2 = LinearRegression()\n",
    "\n",
    "model_2_fit = model_2.fit(features_train_2, target_train_2)\n",
    "\n",
    "model_2_predicted = model_2.predict(features_valid_2)\n",
    "\n",
    "valid_predictions_2 = pd.Series(model_2_predicted).reset_index(drop=True)\n",
    "\n",
    "print('RMSE:', mean_squared_error(target_valid_2, model_2_predicted)**0.5)\n",
    "\n",
    "print('The average predicted value for region number 2 is:', \n",
    "      \n",
    "      valid_predictions_2.mean())"
   ]
  },
  {
   "cell_type": "code",
   "execution_count": 38,
   "id": "4d195f4f",
   "metadata": {},
   "outputs": [
    {
     "name": "stdout",
     "output_type": "stream",
     "text": [
      "RMSE: 40.145872311342174\n",
      "The average predicted value for region number 3 is: 94.77102387765993\n"
     ]
    }
   ],
   "source": [
    "features_train_3, features_valid_3, target_train_3, target_valid_3 = split_data(\n",
    "    \n",
    "    data_3, ['f0', 'f1', 'f2'], 'product')\n",
    "\n",
    "model_3 = LinearRegression()\n",
    "\n",
    "model_3_fit = model_3.fit(features_train_3, target_train_3)\n",
    "\n",
    "model_3_predicted = model_3.predict(features_valid_3)\n",
    "\n",
    "valid_predictions_3 = pd.Series(model_3_predicted).reset_index(drop=True)\n",
    "\n",
    "print('RMSE:', mean_squared_error(target_valid_3, model_3_predicted)**0.5)\n",
    "\n",
    "print('The average predicted value for region number 3 is:', \n",
    "      \n",
    "      valid_predictions_3.mean())"
   ]
  },
  {
   "cell_type": "markdown",
   "id": "1ad1a709",
   "metadata": {},
   "source": [
    "Based on the RMSE metric, we see that the value of the second set is more than twice than the others, so we can say that the error in this set is much smaller.\n",
    "\n",
    "The results show that the forecast for the second set should be more accurate than for the first and third. In the next steps, we are going to test exactly this hypothesis."
   ]
  },
  {
   "cell_type": "markdown",
   "id": "0db97318",
   "metadata": {},
   "source": [
    "# Preparation for profit calculation"
   ]
  },
  {
   "cell_type": "markdown",
   "id": "3b60b3e8",
   "metadata": {},
   "source": [
    "All constant values for calculations are stored in separate variables."
   ]
  },
  {
   "cell_type": "code",
   "execution_count": 23,
   "id": "264fb984",
   "metadata": {},
   "outputs": [],
   "source": [
    "BUDGET = 10000 # million rubles\n",
    "\n",
    "TOTAL_BOREHOLE = 500 \n",
    "\n",
    "MIN_BOREHOLE = 200\n",
    "\n",
    "REVENUE_PER_BARREL = 0.45 \n",
    "\n",
    "MIN_NEEDED = BUDGET / MIN_BOREHOLE / REVENUE_PER_BARREL\n",
    "\n",
    "LOSS_PROB = 0.025"
   ]
  },
  {
   "cell_type": "markdown",
   "id": "3149cda9",
   "metadata": {},
   "source": [
    "We calculate the indicators that interest us."
   ]
  },
  {
   "cell_type": "code",
   "execution_count": 24,
   "id": "3f78b65f",
   "metadata": {},
   "outputs": [],
   "source": [
    "one_data_predicted = features_valid_1.copy()\n",
    "\n",
    "one_data_predicted['predictions_product'] = model_1_fit.predict(features_valid_1)\n",
    "\n",
    "one_data_predicted['profits'] = (one_data_predicted[\n",
    "    \n",
    "    'predictions_product'] * REVENUE_PER_BARREL).sort_values(ascending=False)"
   ]
  },
  {
   "cell_type": "code",
   "execution_count": 25,
   "id": "4fff776b",
   "metadata": {},
   "outputs": [],
   "source": [
    "two_data_predicted = features_valid_2.copy()\n",
    "\n",
    "two_data_predicted['predictions_product'] = model_2_fit.predict(features_valid_2)\n",
    "\n",
    "two_data_predicted['profits'] = (two_data_predicted[\n",
    "    \n",
    "    'predictions_product'] * REVENUE_PER_BARREL).sort_values(ascending=False)\n"
   ]
  },
  {
   "cell_type": "code",
   "execution_count": 26,
   "id": "54be5da5",
   "metadata": {},
   "outputs": [],
   "source": [
    "three_data_predicted = features_valid_3.copy()\n",
    "\n",
    "three_data_predicted['predictions_product'] = model_3_fit.predict(features_valid_2)\n",
    "\n",
    "three_data_predicted['profits'] = (three_data_predicted[\n",
    "    \n",
    "    'predictions_product'] * REVENUE_PER_BARREL).sort_values(ascending=False)\n"
   ]
  },
  {
   "cell_type": "markdown",
   "id": "f3a9d888",
   "metadata": {},
   "source": [
    "We check everything is as it has to be."
   ]
  },
  {
   "cell_type": "code",
   "execution_count": 39,
   "id": "992fb9ec",
   "metadata": {},
   "outputs": [
    {
     "data": {
      "text/html": [
       "<div>\n",
       "<style scoped>\n",
       "    .dataframe tbody tr th:only-of-type {\n",
       "        vertical-align: middle;\n",
       "    }\n",
       "\n",
       "    .dataframe tbody tr th {\n",
       "        vertical-align: top;\n",
       "    }\n",
       "\n",
       "    .dataframe thead th {\n",
       "        text-align: right;\n",
       "    }\n",
       "</style>\n",
       "<table border=\"1\" class=\"dataframe\">\n",
       "  <thead>\n",
       "    <tr style=\"text-align: right;\">\n",
       "      <th></th>\n",
       "      <th>f0</th>\n",
       "      <th>f1</th>\n",
       "      <th>f2</th>\n",
       "      <th>predictions_product</th>\n",
       "      <th>profits</th>\n",
       "      <th>break_even</th>\n",
       "    </tr>\n",
       "  </thead>\n",
       "  <tbody>\n",
       "    <tr>\n",
       "      <th>75721</th>\n",
       "      <td>0.113830</td>\n",
       "      <td>-1.605391</td>\n",
       "      <td>-0.119836</td>\n",
       "      <td>101.901017</td>\n",
       "      <td>45.855458</td>\n",
       "      <td>240.503364</td>\n",
       "    </tr>\n",
       "    <tr>\n",
       "      <th>80184</th>\n",
       "      <td>0.274030</td>\n",
       "      <td>-1.417818</td>\n",
       "      <td>-1.187407</td>\n",
       "      <td>78.217774</td>\n",
       "      <td>35.197998</td>\n",
       "      <td>240.503364</td>\n",
       "    </tr>\n",
       "    <tr>\n",
       "      <th>19864</th>\n",
       "      <td>1.057896</td>\n",
       "      <td>-1.560307</td>\n",
       "      <td>0.371855</td>\n",
       "      <td>115.266901</td>\n",
       "      <td>51.870105</td>\n",
       "      <td>240.503364</td>\n",
       "    </tr>\n",
       "    <tr>\n",
       "      <th>76699</th>\n",
       "      <td>1.238466</td>\n",
       "      <td>-0.971658</td>\n",
       "      <td>0.090665</td>\n",
       "      <td>105.618618</td>\n",
       "      <td>47.528378</td>\n",
       "      <td>240.503364</td>\n",
       "    </tr>\n",
       "    <tr>\n",
       "      <th>92991</th>\n",
       "      <td>0.480343</td>\n",
       "      <td>-0.450600</td>\n",
       "      <td>0.027088</td>\n",
       "      <td>97.980185</td>\n",
       "      <td>44.091083</td>\n",
       "      <td>240.503364</td>\n",
       "    </tr>\n",
       "    <tr>\n",
       "      <th>...</th>\n",
       "      <td>...</td>\n",
       "      <td>...</td>\n",
       "      <td>...</td>\n",
       "      <td>...</td>\n",
       "      <td>...</td>\n",
       "      <td>...</td>\n",
       "    </tr>\n",
       "    <tr>\n",
       "      <th>21271</th>\n",
       "      <td>0.291949</td>\n",
       "      <td>-1.515226</td>\n",
       "      <td>0.030842</td>\n",
       "      <td>105.076959</td>\n",
       "      <td>47.284631</td>\n",
       "      <td>240.503364</td>\n",
       "    </tr>\n",
       "    <tr>\n",
       "      <th>34014</th>\n",
       "      <td>-0.644370</td>\n",
       "      <td>0.528145</td>\n",
       "      <td>-0.552783</td>\n",
       "      <td>74.768176</td>\n",
       "      <td>33.645679</td>\n",
       "      <td>240.503364</td>\n",
       "    </tr>\n",
       "    <tr>\n",
       "      <th>81355</th>\n",
       "      <td>0.107509</td>\n",
       "      <td>-1.342572</td>\n",
       "      <td>-0.934248</td>\n",
       "      <td>82.544397</td>\n",
       "      <td>37.144978</td>\n",
       "      <td>240.503364</td>\n",
       "    </tr>\n",
       "    <tr>\n",
       "      <th>65720</th>\n",
       "      <td>-0.345986</td>\n",
       "      <td>0.403163</td>\n",
       "      <td>-0.311768</td>\n",
       "      <td>81.826689</td>\n",
       "      <td>36.822010</td>\n",
       "      <td>240.503364</td>\n",
       "    </tr>\n",
       "    <tr>\n",
       "      <th>11627</th>\n",
       "      <td>-0.856089</td>\n",
       "      <td>1.513279</td>\n",
       "      <td>0.667150</td>\n",
       "      <td>93.121062</td>\n",
       "      <td>41.904478</td>\n",
       "      <td>240.503364</td>\n",
       "    </tr>\n",
       "  </tbody>\n",
       "</table>\n",
       "<p>25000 rows × 6 columns</p>\n",
       "</div>"
      ],
      "text/plain": [
       "             f0        f1        f2  predictions_product    profits  \\\n",
       "75721  0.113830 -1.605391 -0.119836           101.901017  45.855458   \n",
       "80184  0.274030 -1.417818 -1.187407            78.217774  35.197998   \n",
       "19864  1.057896 -1.560307  0.371855           115.266901  51.870105   \n",
       "76699  1.238466 -0.971658  0.090665           105.618618  47.528378   \n",
       "92991  0.480343 -0.450600  0.027088            97.980185  44.091083   \n",
       "...         ...       ...       ...                  ...        ...   \n",
       "21271  0.291949 -1.515226  0.030842           105.076959  47.284631   \n",
       "34014 -0.644370  0.528145 -0.552783            74.768176  33.645679   \n",
       "81355  0.107509 -1.342572 -0.934248            82.544397  37.144978   \n",
       "65720 -0.345986  0.403163 -0.311768            81.826689  36.822010   \n",
       "11627 -0.856089  1.513279  0.667150            93.121062  41.904478   \n",
       "\n",
       "       break_even  \n",
       "75721  240.503364  \n",
       "80184  240.503364  \n",
       "19864  240.503364  \n",
       "76699  240.503364  \n",
       "92991  240.503364  \n",
       "...           ...  \n",
       "21271  240.503364  \n",
       "34014  240.503364  \n",
       "81355  240.503364  \n",
       "65720  240.503364  \n",
       "11627  240.503364  \n",
       "\n",
       "[25000 rows x 6 columns]"
      ]
     },
     "metadata": {},
     "output_type": "display_data"
    },
    {
     "data": {
      "text/html": [
       "<div>\n",
       "<style scoped>\n",
       "    .dataframe tbody tr th:only-of-type {\n",
       "        vertical-align: middle;\n",
       "    }\n",
       "\n",
       "    .dataframe tbody tr th {\n",
       "        vertical-align: top;\n",
       "    }\n",
       "\n",
       "    .dataframe thead th {\n",
       "        text-align: right;\n",
       "    }\n",
       "</style>\n",
       "<table border=\"1\" class=\"dataframe\">\n",
       "  <thead>\n",
       "    <tr style=\"text-align: right;\">\n",
       "      <th></th>\n",
       "      <th>f0</th>\n",
       "      <th>f1</th>\n",
       "      <th>f2</th>\n",
       "      <th>predictions_product</th>\n",
       "      <th>profits</th>\n",
       "      <th>break_even</th>\n",
       "    </tr>\n",
       "  </thead>\n",
       "  <tbody>\n",
       "    <tr>\n",
       "      <th>75721</th>\n",
       "      <td>0.113830</td>\n",
       "      <td>-1.605391</td>\n",
       "      <td>-0.119836</td>\n",
       "      <td>101.901017</td>\n",
       "      <td>45.855458</td>\n",
       "      <td>240.503364</td>\n",
       "    </tr>\n",
       "    <tr>\n",
       "      <th>80184</th>\n",
       "      <td>0.274030</td>\n",
       "      <td>-1.417818</td>\n",
       "      <td>-1.187407</td>\n",
       "      <td>78.217774</td>\n",
       "      <td>35.197998</td>\n",
       "      <td>240.503364</td>\n",
       "    </tr>\n",
       "    <tr>\n",
       "      <th>19864</th>\n",
       "      <td>1.057896</td>\n",
       "      <td>-1.560307</td>\n",
       "      <td>0.371855</td>\n",
       "      <td>115.266901</td>\n",
       "      <td>51.870105</td>\n",
       "      <td>240.503364</td>\n",
       "    </tr>\n",
       "    <tr>\n",
       "      <th>76699</th>\n",
       "      <td>1.238466</td>\n",
       "      <td>-0.971658</td>\n",
       "      <td>0.090665</td>\n",
       "      <td>105.618618</td>\n",
       "      <td>47.528378</td>\n",
       "      <td>240.503364</td>\n",
       "    </tr>\n",
       "    <tr>\n",
       "      <th>92991</th>\n",
       "      <td>0.480343</td>\n",
       "      <td>-0.450600</td>\n",
       "      <td>0.027088</td>\n",
       "      <td>97.980185</td>\n",
       "      <td>44.091083</td>\n",
       "      <td>240.503364</td>\n",
       "    </tr>\n",
       "    <tr>\n",
       "      <th>...</th>\n",
       "      <td>...</td>\n",
       "      <td>...</td>\n",
       "      <td>...</td>\n",
       "      <td>...</td>\n",
       "      <td>...</td>\n",
       "      <td>...</td>\n",
       "    </tr>\n",
       "    <tr>\n",
       "      <th>21271</th>\n",
       "      <td>0.291949</td>\n",
       "      <td>-1.515226</td>\n",
       "      <td>0.030842</td>\n",
       "      <td>105.076959</td>\n",
       "      <td>47.284631</td>\n",
       "      <td>240.503364</td>\n",
       "    </tr>\n",
       "    <tr>\n",
       "      <th>34014</th>\n",
       "      <td>-0.644370</td>\n",
       "      <td>0.528145</td>\n",
       "      <td>-0.552783</td>\n",
       "      <td>74.768176</td>\n",
       "      <td>33.645679</td>\n",
       "      <td>240.503364</td>\n",
       "    </tr>\n",
       "    <tr>\n",
       "      <th>81355</th>\n",
       "      <td>0.107509</td>\n",
       "      <td>-1.342572</td>\n",
       "      <td>-0.934248</td>\n",
       "      <td>82.544397</td>\n",
       "      <td>37.144978</td>\n",
       "      <td>240.503364</td>\n",
       "    </tr>\n",
       "    <tr>\n",
       "      <th>65720</th>\n",
       "      <td>-0.345986</td>\n",
       "      <td>0.403163</td>\n",
       "      <td>-0.311768</td>\n",
       "      <td>81.826689</td>\n",
       "      <td>36.822010</td>\n",
       "      <td>240.503364</td>\n",
       "    </tr>\n",
       "    <tr>\n",
       "      <th>11627</th>\n",
       "      <td>-0.856089</td>\n",
       "      <td>1.513279</td>\n",
       "      <td>0.667150</td>\n",
       "      <td>93.121062</td>\n",
       "      <td>41.904478</td>\n",
       "      <td>240.503364</td>\n",
       "    </tr>\n",
       "  </tbody>\n",
       "</table>\n",
       "<p>25000 rows × 6 columns</p>\n",
       "</div>"
      ],
      "text/plain": [
       "             f0        f1        f2  predictions_product    profits  \\\n",
       "75721  0.113830 -1.605391 -0.119836           101.901017  45.855458   \n",
       "80184  0.274030 -1.417818 -1.187407            78.217774  35.197998   \n",
       "19864  1.057896 -1.560307  0.371855           115.266901  51.870105   \n",
       "76699  1.238466 -0.971658  0.090665           105.618618  47.528378   \n",
       "92991  0.480343 -0.450600  0.027088            97.980185  44.091083   \n",
       "...         ...       ...       ...                  ...        ...   \n",
       "21271  0.291949 -1.515226  0.030842           105.076959  47.284631   \n",
       "34014 -0.644370  0.528145 -0.552783            74.768176  33.645679   \n",
       "81355  0.107509 -1.342572 -0.934248            82.544397  37.144978   \n",
       "65720 -0.345986  0.403163 -0.311768            81.826689  36.822010   \n",
       "11627 -0.856089  1.513279  0.667150            93.121062  41.904478   \n",
       "\n",
       "       break_even  \n",
       "75721  240.503364  \n",
       "80184  240.503364  \n",
       "19864  240.503364  \n",
       "76699  240.503364  \n",
       "92991  240.503364  \n",
       "...           ...  \n",
       "21271  240.503364  \n",
       "34014  240.503364  \n",
       "81355  240.503364  \n",
       "65720  240.503364  \n",
       "11627  240.503364  \n",
       "\n",
       "[25000 rows x 6 columns]"
      ]
     },
     "metadata": {},
     "output_type": "display_data"
    },
    {
     "data": {
      "text/html": [
       "<div>\n",
       "<style scoped>\n",
       "    .dataframe tbody tr th:only-of-type {\n",
       "        vertical-align: middle;\n",
       "    }\n",
       "\n",
       "    .dataframe tbody tr th {\n",
       "        vertical-align: top;\n",
       "    }\n",
       "\n",
       "    .dataframe thead th {\n",
       "        text-align: right;\n",
       "    }\n",
       "</style>\n",
       "<table border=\"1\" class=\"dataframe\">\n",
       "  <thead>\n",
       "    <tr style=\"text-align: right;\">\n",
       "      <th></th>\n",
       "      <th>f0</th>\n",
       "      <th>f1</th>\n",
       "      <th>f2</th>\n",
       "      <th>predictions_product</th>\n",
       "      <th>profits</th>\n",
       "      <th>break_even</th>\n",
       "    </tr>\n",
       "  </thead>\n",
       "  <tbody>\n",
       "    <tr>\n",
       "      <th>75721</th>\n",
       "      <td>0.113830</td>\n",
       "      <td>-1.605391</td>\n",
       "      <td>-0.119836</td>\n",
       "      <td>101.901017</td>\n",
       "      <td>45.855458</td>\n",
       "      <td>240.503364</td>\n",
       "    </tr>\n",
       "    <tr>\n",
       "      <th>80184</th>\n",
       "      <td>0.274030</td>\n",
       "      <td>-1.417818</td>\n",
       "      <td>-1.187407</td>\n",
       "      <td>78.217774</td>\n",
       "      <td>35.197998</td>\n",
       "      <td>240.503364</td>\n",
       "    </tr>\n",
       "    <tr>\n",
       "      <th>19864</th>\n",
       "      <td>1.057896</td>\n",
       "      <td>-1.560307</td>\n",
       "      <td>0.371855</td>\n",
       "      <td>115.266901</td>\n",
       "      <td>51.870105</td>\n",
       "      <td>240.503364</td>\n",
       "    </tr>\n",
       "    <tr>\n",
       "      <th>76699</th>\n",
       "      <td>1.238466</td>\n",
       "      <td>-0.971658</td>\n",
       "      <td>0.090665</td>\n",
       "      <td>105.618618</td>\n",
       "      <td>47.528378</td>\n",
       "      <td>240.503364</td>\n",
       "    </tr>\n",
       "    <tr>\n",
       "      <th>92991</th>\n",
       "      <td>0.480343</td>\n",
       "      <td>-0.450600</td>\n",
       "      <td>0.027088</td>\n",
       "      <td>97.980185</td>\n",
       "      <td>44.091083</td>\n",
       "      <td>240.503364</td>\n",
       "    </tr>\n",
       "    <tr>\n",
       "      <th>...</th>\n",
       "      <td>...</td>\n",
       "      <td>...</td>\n",
       "      <td>...</td>\n",
       "      <td>...</td>\n",
       "      <td>...</td>\n",
       "      <td>...</td>\n",
       "    </tr>\n",
       "    <tr>\n",
       "      <th>21271</th>\n",
       "      <td>0.291949</td>\n",
       "      <td>-1.515226</td>\n",
       "      <td>0.030842</td>\n",
       "      <td>105.076959</td>\n",
       "      <td>47.284631</td>\n",
       "      <td>240.503364</td>\n",
       "    </tr>\n",
       "    <tr>\n",
       "      <th>34014</th>\n",
       "      <td>-0.644370</td>\n",
       "      <td>0.528145</td>\n",
       "      <td>-0.552783</td>\n",
       "      <td>74.768176</td>\n",
       "      <td>33.645679</td>\n",
       "      <td>240.503364</td>\n",
       "    </tr>\n",
       "    <tr>\n",
       "      <th>81355</th>\n",
       "      <td>0.107509</td>\n",
       "      <td>-1.342572</td>\n",
       "      <td>-0.934248</td>\n",
       "      <td>82.544397</td>\n",
       "      <td>37.144978</td>\n",
       "      <td>240.503364</td>\n",
       "    </tr>\n",
       "    <tr>\n",
       "      <th>65720</th>\n",
       "      <td>-0.345986</td>\n",
       "      <td>0.403163</td>\n",
       "      <td>-0.311768</td>\n",
       "      <td>81.826689</td>\n",
       "      <td>36.822010</td>\n",
       "      <td>240.503364</td>\n",
       "    </tr>\n",
       "    <tr>\n",
       "      <th>11627</th>\n",
       "      <td>-0.856089</td>\n",
       "      <td>1.513279</td>\n",
       "      <td>0.667150</td>\n",
       "      <td>93.121062</td>\n",
       "      <td>41.904478</td>\n",
       "      <td>240.503364</td>\n",
       "    </tr>\n",
       "  </tbody>\n",
       "</table>\n",
       "<p>25000 rows × 6 columns</p>\n",
       "</div>"
      ],
      "text/plain": [
       "             f0        f1        f2  predictions_product    profits  \\\n",
       "75721  0.113830 -1.605391 -0.119836           101.901017  45.855458   \n",
       "80184  0.274030 -1.417818 -1.187407            78.217774  35.197998   \n",
       "19864  1.057896 -1.560307  0.371855           115.266901  51.870105   \n",
       "76699  1.238466 -0.971658  0.090665           105.618618  47.528378   \n",
       "92991  0.480343 -0.450600  0.027088            97.980185  44.091083   \n",
       "...         ...       ...       ...                  ...        ...   \n",
       "21271  0.291949 -1.515226  0.030842           105.076959  47.284631   \n",
       "34014 -0.644370  0.528145 -0.552783            74.768176  33.645679   \n",
       "81355  0.107509 -1.342572 -0.934248            82.544397  37.144978   \n",
       "65720 -0.345986  0.403163 -0.311768            81.826689  36.822010   \n",
       "11627 -0.856089  1.513279  0.667150            93.121062  41.904478   \n",
       "\n",
       "       break_even  \n",
       "75721  240.503364  \n",
       "80184  240.503364  \n",
       "19864  240.503364  \n",
       "76699  240.503364  \n",
       "92991  240.503364  \n",
       "...           ...  \n",
       "21271  240.503364  \n",
       "34014  240.503364  \n",
       "81355  240.503364  \n",
       "65720  240.503364  \n",
       "11627  240.503364  \n",
       "\n",
       "[25000 rows x 6 columns]"
      ]
     },
     "metadata": {},
     "output_type": "display_data"
    }
   ],
   "source": [
    "for i in one_data_predicted, one_data_predicted, one_data_predicted:\n",
    "    \n",
    "    one_data_predicted.head()\n",
    "    \n",
    "    two_data_predicted.head()\n",
    "    \n",
    "    three_data_predicted.head()\n",
    "    \n",
    "    display(i)"
   ]
  },
  {
   "cell_type": "markdown",
   "id": "cf731570",
   "metadata": {},
   "source": [
    "Perfect!"
   ]
  },
  {
   "cell_type": "code",
   "execution_count": 28,
   "id": "fbb15b8a",
   "metadata": {},
   "outputs": [
    {
     "name": "stdout",
     "output_type": "stream",
     "text": [
      "Minimum quantity of raw materials: 111.11111111111111\n",
      "Average offer in the region: 92.3987999065781\n"
     ]
    }
   ],
   "source": [
    "one_data_predicted['break_even'] = BUDGET / one_data_predicted['profits'].mean()\n",
    "\n",
    "print('Minimum quantity of raw materials:', MIN_NEEDED)\n",
    "\n",
    "print('Average offer in the region:', \n",
    "      \n",
    "      one_data_predicted['predictions_product'].mean())"
   ]
  },
  {
   "cell_type": "code",
   "execution_count": 29,
   "id": "d2b89c21",
   "metadata": {},
   "outputs": [
    {
     "name": "stdout",
     "output_type": "stream",
     "text": [
      "Minimum quantity of raw materials: 111.11111111111111\n",
      "Average offer in the region: 68.71287803913762\n"
     ]
    }
   ],
   "source": [
    "two_data_predicted['break_even'] = BUDGET / two_data_predicted['profits'].mean()\n",
    "\n",
    "print('Minimum quantity of raw materials:', MIN_NEEDED)\n",
    "\n",
    "print('Average offer in the region:', \n",
    "      \n",
    "      two_data_predicted['predictions_product'].mean())"
   ]
  },
  {
   "cell_type": "code",
   "execution_count": 30,
   "id": "c6e235fb",
   "metadata": {},
   "outputs": [
    {
     "name": "stdout",
     "output_type": "stream",
     "text": [
      "Minimum quantity of raw materials: 111.11111111111111\n",
      "Average offer in the region: 94.88898500879517\n"
     ]
    }
   ],
   "source": [
    "three_data_predicted['break_even'] = BUDGET / three_data_predicted['profits'].mean()\n",
    "\n",
    "print('Minimum quantity of raw materials:', MIN_NEEDED)\n",
    "\n",
    "print('Average offer in the region:', \n",
    "      \n",
    "      three_data_predicted['predictions_product'].mean())"
   ]
  },
  {
   "cell_type": "markdown",
   "id": "7d7ab5b9",
   "metadata": {},
   "source": [
    "In this section, we have created constant variables that will help us measure whether the regions in front of us really meet the requirements for production and profit.\n",
    "\n",
    "We have also created two new columns with forecasts for both product, and profit.\n",
    "\n",
    "Finally, we calculated the minimum amount of raw materials needed to make a profit in these regions, and found that each region requires a minimum of 111.11 raw materials, in the next stages we will see if this amount corresponds to each of the locations."
   ]
  },
  {
   "cell_type": "markdown",
   "id": "6c8fd77d",
   "metadata": {},
   "source": [
    "# Calculation of profit and risks"
   ]
  },
  {
   "cell_type": "markdown",
   "id": "c83991e2",
   "metadata": {},
   "source": [
    "Now is time to analyze the risks and benefits for each region."
   ]
  },
  {
   "cell_type": "code",
   "execution_count": 31,
   "id": "f172a86f",
   "metadata": {},
   "outputs": [],
   "source": [
    "def function(predicted, product):\n",
    "    \n",
    "    predicted_product = predicted.reset_index(drop=True) \n",
    "    \n",
    "    real_product = product.reset_index(drop=True)  \n",
    "\n",
    "    predicted_product = {\n",
    "        \n",
    "        'predicted': predicted_product,\n",
    "        'product': real_product\n",
    "    }\n",
    "\n",
    "    product_and_predicted = pd.DataFrame(data=predicted_product)\n",
    "    \n",
    "    return product_and_predicted  "
   ]
  },
  {
   "cell_type": "code",
   "execution_count": 32,
   "id": "f8247be1",
   "metadata": {},
   "outputs": [],
   "source": [
    "product_and_predicted_1 = function(valid_predictions_1, target_valid_1)"
   ]
  },
  {
   "cell_type": "code",
   "execution_count": 33,
   "id": "65bb93c6",
   "metadata": {},
   "outputs": [],
   "source": [
    "product_and_predicted_2 = function(valid_predictions_2, target_valid_2)"
   ]
  },
  {
   "cell_type": "code",
   "execution_count": 34,
   "id": "6ce0a14d",
   "metadata": {},
   "outputs": [],
   "source": [
    "product_and_predicted_3 = function(valid_predictions_3, target_valid_3)"
   ]
  },
  {
   "cell_type": "code",
   "execution_count": 35,
   "id": "ada8bc59",
   "metadata": {},
   "outputs": [
    {
     "data": {
      "text/html": [
       "<div>\n",
       "<style scoped>\n",
       "    .dataframe tbody tr th:only-of-type {\n",
       "        vertical-align: middle;\n",
       "    }\n",
       "\n",
       "    .dataframe tbody tr th {\n",
       "        vertical-align: top;\n",
       "    }\n",
       "\n",
       "    .dataframe thead th {\n",
       "        text-align: right;\n",
       "    }\n",
       "</style>\n",
       "<table border=\"1\" class=\"dataframe\">\n",
       "  <thead>\n",
       "    <tr style=\"text-align: right;\">\n",
       "      <th></th>\n",
       "      <th>predicted</th>\n",
       "      <th>product</th>\n",
       "    </tr>\n",
       "  </thead>\n",
       "  <tbody>\n",
       "    <tr>\n",
       "      <th>0</th>\n",
       "      <td>101.901017</td>\n",
       "      <td>122.073350</td>\n",
       "    </tr>\n",
       "    <tr>\n",
       "      <th>1</th>\n",
       "      <td>78.217774</td>\n",
       "      <td>48.738540</td>\n",
       "    </tr>\n",
       "    <tr>\n",
       "      <th>2</th>\n",
       "      <td>115.266901</td>\n",
       "      <td>131.338088</td>\n",
       "    </tr>\n",
       "    <tr>\n",
       "      <th>3</th>\n",
       "      <td>105.618618</td>\n",
       "      <td>88.327757</td>\n",
       "    </tr>\n",
       "    <tr>\n",
       "      <th>4</th>\n",
       "      <td>97.980185</td>\n",
       "      <td>36.959266</td>\n",
       "    </tr>\n",
       "    <tr>\n",
       "      <th>...</th>\n",
       "      <td>...</td>\n",
       "      <td>...</td>\n",
       "    </tr>\n",
       "    <tr>\n",
       "      <th>24995</th>\n",
       "      <td>105.076959</td>\n",
       "      <td>148.821520</td>\n",
       "    </tr>\n",
       "    <tr>\n",
       "      <th>24996</th>\n",
       "      <td>74.768176</td>\n",
       "      <td>123.454003</td>\n",
       "    </tr>\n",
       "    <tr>\n",
       "      <th>24997</th>\n",
       "      <td>82.544397</td>\n",
       "      <td>91.945213</td>\n",
       "    </tr>\n",
       "    <tr>\n",
       "      <th>24998</th>\n",
       "      <td>81.826689</td>\n",
       "      <td>149.295563</td>\n",
       "    </tr>\n",
       "    <tr>\n",
       "      <th>24999</th>\n",
       "      <td>93.121062</td>\n",
       "      <td>57.244039</td>\n",
       "    </tr>\n",
       "  </tbody>\n",
       "</table>\n",
       "<p>25000 rows × 2 columns</p>\n",
       "</div>"
      ],
      "text/plain": [
       "        predicted     product\n",
       "0      101.901017  122.073350\n",
       "1       78.217774   48.738540\n",
       "2      115.266901  131.338088\n",
       "3      105.618618   88.327757\n",
       "4       97.980185   36.959266\n",
       "...           ...         ...\n",
       "24995  105.076959  148.821520\n",
       "24996   74.768176  123.454003\n",
       "24997   82.544397   91.945213\n",
       "24998   81.826689  149.295563\n",
       "24999   93.121062   57.244039\n",
       "\n",
       "[25000 rows x 2 columns]"
      ]
     },
     "metadata": {},
     "output_type": "display_data"
    },
    {
     "data": {
      "text/html": [
       "<div>\n",
       "<style scoped>\n",
       "    .dataframe tbody tr th:only-of-type {\n",
       "        vertical-align: middle;\n",
       "    }\n",
       "\n",
       "    .dataframe tbody tr th {\n",
       "        vertical-align: top;\n",
       "    }\n",
       "\n",
       "    .dataframe thead th {\n",
       "        text-align: right;\n",
       "    }\n",
       "</style>\n",
       "<table border=\"1\" class=\"dataframe\">\n",
       "  <thead>\n",
       "    <tr style=\"text-align: right;\">\n",
       "      <th></th>\n",
       "      <th>predicted</th>\n",
       "      <th>product</th>\n",
       "    </tr>\n",
       "  </thead>\n",
       "  <tbody>\n",
       "    <tr>\n",
       "      <th>0</th>\n",
       "      <td>0.844738</td>\n",
       "      <td>0.000000</td>\n",
       "    </tr>\n",
       "    <tr>\n",
       "      <th>1</th>\n",
       "      <td>52.921612</td>\n",
       "      <td>53.906522</td>\n",
       "    </tr>\n",
       "    <tr>\n",
       "      <th>2</th>\n",
       "      <td>135.110385</td>\n",
       "      <td>134.766305</td>\n",
       "    </tr>\n",
       "    <tr>\n",
       "      <th>3</th>\n",
       "      <td>109.494863</td>\n",
       "      <td>107.813044</td>\n",
       "    </tr>\n",
       "    <tr>\n",
       "      <th>4</th>\n",
       "      <td>-0.047292</td>\n",
       "      <td>0.000000</td>\n",
       "    </tr>\n",
       "    <tr>\n",
       "      <th>...</th>\n",
       "      <td>...</td>\n",
       "      <td>...</td>\n",
       "    </tr>\n",
       "    <tr>\n",
       "      <th>24995</th>\n",
       "      <td>108.351600</td>\n",
       "      <td>107.813044</td>\n",
       "    </tr>\n",
       "    <tr>\n",
       "      <th>24996</th>\n",
       "      <td>53.604049</td>\n",
       "      <td>53.906522</td>\n",
       "    </tr>\n",
       "    <tr>\n",
       "      <th>24997</th>\n",
       "      <td>26.708734</td>\n",
       "      <td>26.953261</td>\n",
       "    </tr>\n",
       "    <tr>\n",
       "      <th>24998</th>\n",
       "      <td>109.823087</td>\n",
       "      <td>110.992147</td>\n",
       "    </tr>\n",
       "    <tr>\n",
       "      <th>24999</th>\n",
       "      <td>135.448780</td>\n",
       "      <td>134.766305</td>\n",
       "    </tr>\n",
       "  </tbody>\n",
       "</table>\n",
       "<p>25000 rows × 2 columns</p>\n",
       "</div>"
      ],
      "text/plain": [
       "        predicted     product\n",
       "0        0.844738    0.000000\n",
       "1       52.921612   53.906522\n",
       "2      135.110385  134.766305\n",
       "3      109.494863  107.813044\n",
       "4       -0.047292    0.000000\n",
       "...           ...         ...\n",
       "24995  108.351600  107.813044\n",
       "24996   53.604049   53.906522\n",
       "24997   26.708734   26.953261\n",
       "24998  109.823087  110.992147\n",
       "24999  135.448780  134.766305\n",
       "\n",
       "[25000 rows x 2 columns]"
      ]
     },
     "metadata": {},
     "output_type": "display_data"
    },
    {
     "data": {
      "text/html": [
       "<div>\n",
       "<style scoped>\n",
       "    .dataframe tbody tr th:only-of-type {\n",
       "        vertical-align: middle;\n",
       "    }\n",
       "\n",
       "    .dataframe tbody tr th {\n",
       "        vertical-align: top;\n",
       "    }\n",
       "\n",
       "    .dataframe thead th {\n",
       "        text-align: right;\n",
       "    }\n",
       "</style>\n",
       "<table border=\"1\" class=\"dataframe\">\n",
       "  <thead>\n",
       "    <tr style=\"text-align: right;\">\n",
       "      <th></th>\n",
       "      <th>predicted</th>\n",
       "      <th>product</th>\n",
       "    </tr>\n",
       "  </thead>\n",
       "  <tbody>\n",
       "    <tr>\n",
       "      <th>0</th>\n",
       "      <td>98.301916</td>\n",
       "      <td>117.441301</td>\n",
       "    </tr>\n",
       "    <tr>\n",
       "      <th>1</th>\n",
       "      <td>101.592461</td>\n",
       "      <td>47.841249</td>\n",
       "    </tr>\n",
       "    <tr>\n",
       "      <th>2</th>\n",
       "      <td>52.449099</td>\n",
       "      <td>45.883483</td>\n",
       "    </tr>\n",
       "    <tr>\n",
       "      <th>3</th>\n",
       "      <td>109.922127</td>\n",
       "      <td>139.014608</td>\n",
       "    </tr>\n",
       "    <tr>\n",
       "      <th>4</th>\n",
       "      <td>72.411847</td>\n",
       "      <td>84.004276</td>\n",
       "    </tr>\n",
       "    <tr>\n",
       "      <th>...</th>\n",
       "      <td>...</td>\n",
       "      <td>...</td>\n",
       "    </tr>\n",
       "    <tr>\n",
       "      <th>24995</th>\n",
       "      <td>102.764169</td>\n",
       "      <td>40.797226</td>\n",
       "    </tr>\n",
       "    <tr>\n",
       "      <th>24996</th>\n",
       "      <td>93.431823</td>\n",
       "      <td>87.144239</td>\n",
       "    </tr>\n",
       "    <tr>\n",
       "      <th>24997</th>\n",
       "      <td>64.098390</td>\n",
       "      <td>52.039812</td>\n",
       "    </tr>\n",
       "    <tr>\n",
       "      <th>24998</th>\n",
       "      <td>83.764135</td>\n",
       "      <td>136.961454</td>\n",
       "    </tr>\n",
       "    <tr>\n",
       "      <th>24999</th>\n",
       "      <td>86.558644</td>\n",
       "      <td>109.173206</td>\n",
       "    </tr>\n",
       "  </tbody>\n",
       "</table>\n",
       "<p>25000 rows × 2 columns</p>\n",
       "</div>"
      ],
      "text/plain": [
       "        predicted     product\n",
       "0       98.301916  117.441301\n",
       "1      101.592461   47.841249\n",
       "2       52.449099   45.883483\n",
       "3      109.922127  139.014608\n",
       "4       72.411847   84.004276\n",
       "...           ...         ...\n",
       "24995  102.764169   40.797226\n",
       "24996   93.431823   87.144239\n",
       "24997   64.098390   52.039812\n",
       "24998   83.764135  136.961454\n",
       "24999   86.558644  109.173206\n",
       "\n",
       "[25000 rows x 2 columns]"
      ]
     },
     "metadata": {},
     "output_type": "display_data"
    }
   ],
   "source": [
    "for i in product_and_predicted_1, product_and_predicted_2, product_and_predicted_3:\n",
    "    \n",
    "    product_and_predicted_1.head(), \n",
    "    \n",
    "    product_and_predicted_2.head(), \n",
    "         \n",
    "    product_and_predicted_3.head()\n",
    "    \n",
    "    display(i)\n"
   ]
  },
  {
   "cell_type": "markdown",
   "id": "ff623a35",
   "metadata": {},
   "source": [
    "Now we are going to create a function for the sum of the stock product."
   ]
  },
  {
   "cell_type": "code",
   "execution_count": 40,
   "id": "73dc0cc3",
   "metadata": {},
   "outputs": [],
   "source": [
    "def sum_actual_product(data):\n",
    "    \n",
    "    stock_product = data['product'].sum()\n",
    "    \n",
    "    return stock_product"
   ]
  },
  {
   "cell_type": "code",
   "execution_count": 58,
   "id": "61a2e634",
   "metadata": {},
   "outputs": [
    {
     "name": "stdout",
     "output_type": "stream",
     "text": [
      "The target value of the volume of raw materials corresponding to the forecasts: 2308148.909271097 thousands of barrels\n"
     ]
    }
   ],
   "source": [
    "real_target_1 = sum_actual_product(product_and_predicted_1)\n",
    "\n",
    "print(f'The target value of the volume of raw materials corresponding to the forecasts: {real_target_1} thousands of barrels')"
   ]
  },
  {
   "cell_type": "code",
   "execution_count": 56,
   "id": "23080cd2",
   "metadata": {},
   "outputs": [
    {
     "name": "stdout",
     "output_type": "stream",
     "text": [
      "The target value of the volume of raw materials corresponding to the forecasts: 1718134.5186806861 thousands of barrels\n"
     ]
    }
   ],
   "source": [
    "real_target_2 = sum_actual_product(product_and_predicted_2)\n",
    "\n",
    "print(f'The target value of the volume of raw materials corresponding to the forecasts: {real_target_2} thousands of barrels')"
   ]
  },
  {
   "cell_type": "code",
   "execution_count": 57,
   "id": "cfa90cf2",
   "metadata": {},
   "outputs": [
    {
     "name": "stdout",
     "output_type": "stream",
     "text": [
      "The target value of the volume of raw materials corresponding to the forecasts: 2378774.97679299 thousands of barrels\n"
     ]
    }
   ],
   "source": [
    "real_target_3 = sum_actual_product(product_and_predicted_3)\n",
    "\n",
    "print(f'The target value of the volume of raw materials corresponding to the forecasts: {real_target_3} thousands of barrels')"
   ]
  },
  {
   "cell_type": "code",
   "execution_count": 47,
   "id": "fac0ef1f",
   "metadata": {},
   "outputs": [],
   "source": [
    "def income(product_and_predicted, count):\n",
    "    \n",
    "    sort_pred = product_and_predicted.sort_values(by='predicted', ascending=False) \n",
    "    \n",
    "    selected = product_and_predicted['product'][sort_pred.index][:count].sum() \n",
    "    \n",
    "    net_income = (selected * REVENUE_PER_BARREL) - BUDGET\n",
    "    \n",
    "    return net_income"
   ]
  },
  {
   "cell_type": "markdown",
   "id": "327c5612",
   "metadata": {},
   "source": [
    "Now we are going to forecast the revenue."
   ]
  },
  {
   "cell_type": "code",
   "execution_count": 49,
   "id": "86589b8e",
   "metadata": {},
   "outputs": [
    {
     "name": "stdout",
     "output_type": "stream",
     "text": [
      "Profit for the received volume of raw materials: 3359.1411144621798 in million rubles\n"
     ]
    }
   ],
   "source": [
    "income_1 = income(product_and_predicted_1, MIN_BOREHOLE)\n",
    "\n",
    "print(f'Profit for the received volume of raw materials: {income_1} in million rubles')"
   ]
  },
  {
   "cell_type": "code",
   "execution_count": 50,
   "id": "d68b1f86",
   "metadata": {},
   "outputs": [
    {
     "name": "stdout",
     "output_type": "stream",
     "text": [
      "Profit for the received volume of raw materials: 2415.086696681512 in million rubles\n"
     ]
    }
   ],
   "source": [
    "income_2 = income(product_and_predicted_2, MIN_BOREHOLE)\n",
    "\n",
    "print(f'Profit for the received volume of raw materials: {income_2} in million rubles')"
   ]
  },
  {
   "cell_type": "code",
   "execution_count": 51,
   "id": "6485a96e",
   "metadata": {},
   "outputs": [
    {
     "name": "stdout",
     "output_type": "stream",
     "text": [
      "Profit for the received volume of raw materials: 2598.571759374112 in million rubles\n"
     ]
    }
   ],
   "source": [
    "income_3 = income(product_and_predicted_3, MIN_BOREHOLE)\n",
    "\n",
    "print(f'Profit for the received volume of raw materials: {income_3} in million rubles')"
   ]
  },
  {
   "cell_type": "markdown",
   "id": "20d037bd",
   "metadata": {},
   "source": [
    "Let's calculate the risks and profits for each region:\n",
    "\n",
    "· We use the Bootstrap technique with 1000 samples to find the profit distribution.\n",
    "\n",
    "· We want to find the average profit, 95% confidence interval and risk of losses."
   ]
  },
  {
   "cell_type": "code",
   "execution_count": 52,
   "id": "1c525ad2",
   "metadata": {},
   "outputs": [],
   "source": [
    "def bootstraping(product_and_predicted):\n",
    "    \n",
    "    state = np.random.RandomState(12345)\n",
    "    \n",
    "    values = []\n",
    "    \n",
    "    count = 0\n",
    "    \n",
    "    for i in range(1000):\n",
    "        \n",
    "        target_subsample = product_and_predicted['product'].sample(\n",
    "            \n",
    "            n=TOTAL_BOREHOLE, \n",
    "            \n",
    "            replace=True, \n",
    "            \n",
    "            random_state=state)\n",
    "        \n",
    "        pred_subsample = product_and_predicted['predicted'] [target_subsample.index]\n",
    "        \n",
    "        total_income = income(function(pred_subsample, target_subsample), MIN_BOREHOLE)\n",
    "        \n",
    "        values.append(total_income)\n",
    "        \n",
    "        if total_income < 0:\n",
    "            \n",
    "            count += 1\n",
    "    \n",
    "    values = pd.Series(values)\n",
    "    \n",
    "    lower = values.quantile(0.025)\n",
    "    \n",
    "    upper = values.quantile(0.975)\n",
    "\n",
    "    mean = values.mean()\n",
    "    \n",
    "    confidence_interval = lower, upper\n",
    "    \n",
    "    print('Average income for the top 200 locations: {} million rubles.'.format(mean) )\n",
    "    \n",
    "    print('2,5% quantile:', lower, 'million rubles')\n",
    "    \n",
    "    print('Quantile 97,5%:', upper, 'million rubles')\n",
    "    \n",
    "    print('95% confidence interval:', confidence_interval, 'million rubles')\n",
    "    \n",
    "    # bootstrap\n",
    "    \n",
    "    pvalue = 1. * count / 1000 \n",
    "    \n",
    "    if pvalue < LOSS_PROB:\n",
    "        \n",
    "        print('The probability of losing is {:.2%}, the region meets the criterion'.format(\n",
    "            pvalue))\n",
    "        \n",
    "    else:\n",
    "        \n",
    "        print('The probability of loss is {:.2%}, the region does not meet the criterion'.format(\n",
    "            pvalue))\n",
    "\n",
    "    plt.figure()\n",
    "    \n",
    "    h = plt.hist(values, bins=100)\n",
    "\n",
    "    # the left limit of the confidence interval\n",
    "    \n",
    "    one_x, one_y = [confidence_interval[0], confidence_interval[0]], [0, 30]\n",
    "    \n",
    "    # the right boundary of the confidence interval\n",
    "    \n",
    "    two_x, two_y = [confidence_interval[1], confidence_interval[1]], [0, 30]\n",
    "    \n",
    "    plt.title('Income distribution histogram')\n",
    "    \n",
    "    plt.xlabel('Income, million rubles')\n",
    "    \n",
    "    plt.plot(one_x, one_y, two_x, two_y, marker='o')"
   ]
  },
  {
   "cell_type": "code",
   "execution_count": 53,
   "id": "a63ad3ab",
   "metadata": {},
   "outputs": [
    {
     "name": "stdout",
     "output_type": "stream",
     "text": [
      "Average income for the top 200 locations: 406.27878342441966 million rubles.\n",
      "2,5% quantile: -117.74213649486877 million rubles\n",
      "Quantile 97,5%: 911.7370507514058 million rubles\n",
      "95% confidence interval: (-117.74213649486877, 911.7370507514058) million rubles\n",
      "The probability of loss is 6.70%, the region does not meet the criterion\n"
     ]
    },
    {
     "data": {
      "image/png": "[encoded data removed]",
      "text/plain": [
       "<Figure size 432x288 with 1 Axes>"
      ]
     },
     "metadata": {
      "needs_background": "light"
     },
     "output_type": "display_data"
    }
   ],
   "source": [
    "bootstraping(product_and_predicted_1)"
   ]
  },
  {
   "cell_type": "code",
   "execution_count": 54,
   "id": "30b86934",
   "metadata": {},
   "outputs": [
    {
     "name": "stdout",
     "output_type": "stream",
     "text": [
      "Average income for the top 200 locations: 432.6241318131376 million rubles.\n",
      "2,5% quantile: 16.846174932431587 million rubles\n",
      "Quantile 97,5%: 815.9725262857513 million rubles\n",
      "95% confidence interval: (16.846174932431587, 815.9725262857513) million rubles\n",
      "The probability of losing is 1.90%, the region meets the criterion\n"
     ]
    },
    {
     "data": {
      "image/png": "[encoded data removed]",
      "text/plain": [
       "<Figure size 432x288 with 1 Axes>"
      ]
     },
     "metadata": {
      "needs_background": "light"
     },
     "output_type": "display_data"
    }
   ],
   "source": [
    "bootstraping(product_and_predicted_2)"
   ]
  },
  {
   "cell_type": "code",
   "execution_count": 55,
   "id": "3cc0d8b2",
   "metadata": {},
   "outputs": [
    {
     "name": "stdout",
     "output_type": "stream",
     "text": [
      "Average income for the top 200 locations: 377.3621924229166 million rubles.\n",
      "2,5% quantile: -170.780417705727 million rubles\n",
      "Quantile 97,5%: 901.7721313864456 million rubles\n",
      "95% confidence interval: (-170.780417705727, 901.7721313864456) million rubles\n",
      "The probability of loss is 7.40%, the region does not meet the criterion\n"
     ]
    },
    {
     "data": {
      "image/png": "[encoded data removed]",
      "text/plain": [
       "<Figure size 432x288 with 1 Axes>"
      ]
     },
     "metadata": {
      "needs_background": "light"
     },
     "output_type": "display_data"
    }
   ],
   "source": [
    "bootstraping(product_and_predicted_3)"
   ]
  },
  {
   "cell_type": "markdown",
   "id": "9fa23e8b",
   "metadata": {},
   "source": [
    "Conclusions:\n",
    "\n",
    "· All three analyzed regions meet the budget criterion, that is, they are within the planned amount.\n",
    "\n",
    "· Of the three regions, the only one that meets all the criteria, and therefore the most profitable and with the least risks is the second region.\n",
    "\n",
    "· The region where production costs will be highest is the third, followed by the first.\n",
    "\n",
    "· In the first region with a 95% confidence interval, the left border takes a negative value of -117.74213649486877, which means that more than 2.5% will be loss.\n",
    "\n",
    "· In the second region, the left border is positive, which is a good sign that tells us that the risks in this region are limited.\n",
    "\n",
    "· In the third region, the negative values of the chart warn us that this area is not quite suitable for investment, so we should act carefully before making a decision about this. This region is the most expensive and involves the greatest risk of all."
   ]
  }
 ],
 "metadata": {
  "kernelspec": {
   "display_name": "Python 3 (ipykernel)",
   "language": "python",
   "name": "python3"
  },
  "language_info": {
   "codemirror_mode": {
    "name": "ipython",
    "version": 3
   },
   "file_extension": ".py",
   "mimetype": "text/x-python",
   "name": "python",
   "nbconvert_exporter": "python",
   "pygments_lexer": "ipython3",
   "version": "3.9.7"
  }
 },
 "nbformat": 4,
 "nbformat_minor": 5
}
